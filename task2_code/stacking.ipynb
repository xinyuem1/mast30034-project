{
 "cells": [
  {
   "cell_type": "code",
   "execution_count": 1,
   "metadata": {},
   "outputs": [
    {
     "name": "stderr",
     "output_type": "stream",
     "text": [
      "Using TensorFlow backend.\n"
     ]
    }
   ],
   "source": [
    "import pandas as pd\n",
    "import numpy as np\n",
    "from PIL import Image\n",
    "import numpy as np\n",
    "import pandas as pd\n",
    "from tensorflow import keras\n",
    "from keras import layers\n",
    "from keras.models import Sequential\n",
    "from keras.layers import Conv2D\n",
    "from keras.layers import MaxPooling2D\n",
    "from keras.layers import Dense\n",
    "from keras.layers import Flatten\n",
    "from keras.models import Model\n",
    "from keras.layers import Input,Conv2D,MaxPooling2D,Dropout,UpSampling2D,concatenate,BatchNormalization,Add,Activation\n",
    "from keras.optimizers import Adam\n",
    "from keras.callbacks import EarlyStopping, ModelCheckpoint\n",
    "from keras.models import load_model\n",
    "import os"
   ]
  },
  {
   "cell_type": "code",
   "execution_count": 31,
   "metadata": {},
   "outputs": [],
   "source": [
    "def get_proba_train(extractor, model, data, label):\n",
    "    feature = extractor.predict(data)\n",
    "    model.fit(feature, label)\n",
    "    proba= model.predict_proba(feature)\n",
    "    return proba, model"
   ]
  },
  {
   "cell_type": "code",
   "execution_count": 32,
   "metadata": {},
   "outputs": [],
   "source": [
    "def get_proba_test(extractor, trained_model, data):\n",
    "    feature = extractor.predict(data)\n",
    "    proba= trained_model.predict_proba(feature)\n",
    "    return proba"
   ]
  },
  {
   "cell_type": "code",
   "execution_count": 17,
   "metadata": {},
   "outputs": [],
   "source": [
    "def get_feature(proba_array, metafile):\n",
    "    df = pd.read_csv(metafile)\n",
    "    dx_type = np.array(pd.get_dummies(df.dx_type))\n",
    "    localization = np.array(pd.get_dummies(df.localization))\n",
    "    sex = np.array(pd.get_dummies(df.sex))\n",
    "    feature = np.concatenate((dx_type, localization, sex,proba_array), axis = 1)\n",
    "    return feature"
   ]
  },
  {
   "cell_type": "code",
   "execution_count": 61,
   "metadata": {},
   "outputs": [],
   "source": [
    "vgg_model = load_model('vgg.h5')"
   ]
  },
  {
   "cell_type": "code",
   "execution_count": 62,
   "metadata": {},
   "outputs": [],
   "source": [
    "vggextract = Model(inputs=vgg_model.input,outputs=vgg_model.get_layer('dense_4').output)"
   ]
  },
  {
   "cell_type": "code",
   "execution_count": 63,
   "metadata": {},
   "outputs": [],
   "source": [
    "incept_model = load_model('inception.h5')"
   ]
  },
  {
   "cell_type": "code",
   "execution_count": 64,
   "metadata": {},
   "outputs": [],
   "source": [
    "inceptextract = Model(inputs=incept_model.input,outputs=incept_model.get_layer('dense_2').output)"
   ]
  },
  {
   "cell_type": "code",
   "execution_count": 65,
   "metadata": {},
   "outputs": [],
   "source": [
    "X_train = np.load('rgb_train.npy')\n",
    "X_test = np.load('rgb_val.npy')"
   ]
  },
  {
   "cell_type": "code",
   "execution_count": 66,
   "metadata": {},
   "outputs": [],
   "source": [
    "from sklearn import preprocessing\n",
    "y_train = np.array(pd.read_csv('labels_train.csv')['labels'])\n",
    "y_test = np.array(pd.read_csv('labels_val.csv')['labels'])\n",
    "\n",
    "le = preprocessing.LabelEncoder()\n",
    "le.fit(y_train)\n",
    "newy_train = le.transform(y_train)\n",
    "le.fit(y_test)\n",
    "newy_test = le.transform(y_test)\n",
    "\n"
   ]
  },
  {
   "cell_type": "code",
   "execution_count": 67,
   "metadata": {},
   "outputs": [],
   "source": [
    "from sklearn.linear_model import LogisticRegression\n",
    "from sklearn.svm import LinearSVC\n",
    "from sklearn.ensemble import RandomForestClassifier\n",
    "RF = RandomForestClassifier(max_depth=50)\n",
    "SVM = LinearSVC()\n",
    "LR = LogisticRegression()\n"
   ]
  },
  {
   "cell_type": "code",
   "execution_count": null,
   "metadata": {},
   "outputs": [],
   "source": []
  },
  {
   "cell_type": "code",
   "execution_count": 68,
   "metadata": {},
   "outputs": [
    {
     "name": "stderr",
     "output_type": "stream",
     "text": [
      "/opt/conda/lib/python3.7/site-packages/sklearn/linear_model/_logistic.py:764: ConvergenceWarning: lbfgs failed to converge (status=1):\n",
      "STOP: TOTAL NO. of ITERATIONS REACHED LIMIT.\n",
      "\n",
      "Increase the number of iterations (max_iter) or scale the data as shown in:\n",
      "    https://scikit-learn.org/stable/modules/preprocessing.html\n",
      "Please also refer to the documentation for alternative solver options:\n",
      "    https://scikit-learn.org/stable/modules/linear_model.html#logistic-regression\n",
      "  extra_warning_msg=_LOGISTIC_SOLVER_CONVERGENCE_MSG)\n"
     ]
    }
   ],
   "source": [
    "train_vgg_proba, trained_model = get_proba_train(vggextract, LR, X_train, newy_train)\n",
    "test_vgg_proba = get_proba_test(vggextract, trained_model, X_test)"
   ]
  },
  {
   "cell_type": "code",
   "execution_count": 69,
   "metadata": {},
   "outputs": [],
   "source": [
    "train_incep_proba, trained_model = get_proba_train(inceptextract, RF, X_train, newy_train)\n",
    "test_incep_proba = get_proba_test(inceptextract, trained_model, X_test)\n"
   ]
  },
  {
   "cell_type": "code",
   "execution_count": 70,
   "metadata": {},
   "outputs": [],
   "source": [
    "train_feature= get_feature(np.concatenate((train_incep_proba, train_vgg_proba), axis = 1), 'meta_train.csv')\n",
    "test_feature= get_feature(np.concatenate((test_incep_proba, test_vgg_proba), axis = 1), 'meta_test.csv')\n"
   ]
  },
  {
   "cell_type": "code",
   "execution_count": 71,
   "metadata": {},
   "outputs": [
    {
     "name": "stdout",
     "output_type": "stream",
     "text": [
      "              precision    recall  f1-score   support\n",
      "\n",
      "       akiec       0.59      0.50      0.54       108\n",
      "         bcc       0.66      0.74      0.70       157\n",
      "         bkl       0.64      0.54      0.59       382\n",
      "          df       0.85      0.52      0.65        44\n",
      "         mel       0.59      0.53      0.55       375\n",
      "          nv       0.89      0.94      0.91      2201\n",
      "        vasc       0.86      0.82      0.84        38\n",
      "\n",
      "    accuracy                           0.81      3305\n",
      "   macro avg       0.73      0.65      0.68      3305\n",
      "weighted avg       0.81      0.81      0.81      3305\n",
      "\n"
     ]
    }
   ],
   "source": [
    "from sklearn.metrics import classification_report\n",
    "SVM.fit(train_feature, newy_train)\n",
    "SVM_prediction= SVM.predict(test_feature)\n",
    "SVM_prediction= le.inverse_transform(SVM_prediction)\n",
    "report = classification_report(y_test, SVM_prediction)\n",
    "print(report)"
   ]
  },
  {
   "cell_type": "code",
   "execution_count": 72,
   "metadata": {},
   "outputs": [
    {
     "data": {
      "text/plain": [
       "<AxesSubplot:>"
      ]
     },
     "execution_count": 72,
     "metadata": {},
     "output_type": "execute_result"
    },
    {
     "data": {
      "image/png": "[encoded data removed]",
      "text/plain": [
       "<Figure size 504x360 with 2 Axes>"
      ]
     },
     "metadata": {
      "needs_background": "light"
     },
     "output_type": "display_data"
    }
   ],
   "source": [
    "import matplotlib.pyplot as plt\n",
    "import seaborn as sns\n",
    "from sklearn.metrics import confusion_matrix\n",
    "label = le.inverse_transform([0,1,2,3,4,5,6])\n",
    "cm = confusion_matrix(y_test, SVM_prediction)\n",
    "cm_df = pd.DataFrame(cm,label,label)                      \n",
    "plt.figure(figsize=(7,5))  \n",
    "sns.heatmap(cm_df, annot=True)\n"
   ]
  },
  {
   "cell_type": "code",
   "execution_count": 38,
   "metadata": {},
   "outputs": [],
   "source": [
    "vgg_model_seg = load_model('vgg_seg.h5')"
   ]
  },
  {
   "cell_type": "code",
   "execution_count": 39,
   "metadata": {},
   "outputs": [],
   "source": [
    "vggextract_seg = Model(inputs=vgg_model_seg.input,outputs=vgg_model_seg.get_layer('dense_4').output)"
   ]
  },
  {
   "cell_type": "code",
   "execution_count": 41,
   "metadata": {},
   "outputs": [],
   "source": [
    "incept_model_seg = load_model('inception_seg.h5')"
   ]
  },
  {
   "cell_type": "code",
   "execution_count": 42,
   "metadata": {},
   "outputs": [],
   "source": [
    "inceptextract_seg = Model(inputs=incept_model_seg.input,outputs=incept_model_seg.get_layer('dense_2').output)"
   ]
  },
  {
   "cell_type": "code",
   "execution_count": 43,
   "metadata": {},
   "outputs": [],
   "source": [
    "X_train = np.load('rgb_train_seg.npy')\n",
    "X_test = np.load('rgb_val_seg.npy')"
   ]
  },
  {
   "cell_type": "code",
   "execution_count": 44,
   "metadata": {},
   "outputs": [],
   "source": [
    "from sklearn import preprocessing\n",
    "y_train = np.array(pd.read_csv('labels_train.csv')['labels'])\n",
    "y_test = np.array(pd.read_csv('labels_val.csv')['labels'])\n",
    "\n",
    "le = preprocessing.LabelEncoder()\n",
    "le.fit(y_train)\n",
    "newy_train = le.transform(y_train)\n",
    "le.fit(y_test)\n",
    "newy_test = le.transform(y_test)\n"
   ]
  },
  {
   "cell_type": "code",
   "execution_count": 45,
   "metadata": {},
   "outputs": [],
   "source": [
    "from sklearn.linear_model import LogisticRegression\n",
    "from sklearn.svm import LinearSVC\n",
    "from sklearn.ensemble import RandomForestClassifier\n",
    "RF = RandomForestClassifier(max_depth=50)\n",
    "SVM = LinearSVC()\n",
    "LR = LogisticRegression()\n"
   ]
  },
  {
   "cell_type": "code",
   "execution_count": 46,
   "metadata": {},
   "outputs": [
    {
     "name": "stderr",
     "output_type": "stream",
     "text": [
      "/opt/conda/lib/python3.7/site-packages/sklearn/linear_model/_logistic.py:764: ConvergenceWarning: lbfgs failed to converge (status=1):\n",
      "STOP: TOTAL NO. of ITERATIONS REACHED LIMIT.\n",
      "\n",
      "Increase the number of iterations (max_iter) or scale the data as shown in:\n",
      "    https://scikit-learn.org/stable/modules/preprocessing.html\n",
      "Please also refer to the documentation for alternative solver options:\n",
      "    https://scikit-learn.org/stable/modules/linear_model.html#logistic-regression\n",
      "  extra_warning_msg=_LOGISTIC_SOLVER_CONVERGENCE_MSG)\n"
     ]
    }
   ],
   "source": [
    "train_vgg_proba_seg, trained_model = get_proba_train(vggextract_seg, LR, X_train, newy_train)\n",
    "test_vgg_proba_seg = get_proba_test(vggextract_seg, trained_model, X_test)"
   ]
  },
  {
   "cell_type": "code",
   "execution_count": 47,
   "metadata": {},
   "outputs": [],
   "source": [
    "train_incep_proba_seg, trained_model = get_proba_train(inceptextract_seg, RF, X_train, newy_train)\n",
    "test_incep_proba_seg = get_proba_test(inceptextract_seg, trained_model, X_test)\n"
   ]
  },
  {
   "cell_type": "code",
   "execution_count": 48,
   "metadata": {},
   "outputs": [],
   "source": [
    "train_feature_seg= get_feature(np.concatenate((train_incep_proba_seg, train_vgg_proba_seg), axis = 1), 'meta_train.csv')\n",
    "test_feature_seg= get_feature(np.concatenate((test_incep_proba_seg, test_vgg_proba_seg), axis = 1), 'meta_test.csv')\n"
   ]
  },
  {
   "cell_type": "code",
   "execution_count": 49,
   "metadata": {},
   "outputs": [
    {
     "name": "stdout",
     "output_type": "stream",
     "text": [
      "              precision    recall  f1-score   support\n",
      "\n",
      "       akiec       0.26      0.19      0.22       108\n",
      "         bcc       0.44      0.45      0.45       157\n",
      "         bkl       0.46      0.51      0.48       382\n",
      "          df       0.37      0.23      0.28        44\n",
      "         mel       0.52      0.41      0.45       375\n",
      "          nv       0.88      0.92      0.90      2201\n",
      "        vasc       0.66      0.66      0.66        38\n",
      "\n",
      "    accuracy                           0.75      3305\n",
      "   macro avg       0.51      0.48      0.49      3305\n",
      "weighted avg       0.74      0.75      0.75      3305\n",
      "\n"
     ]
    }
   ],
   "source": [
    "from sklearn.metrics import classification_report\n",
    "SVM.fit(train_feature_seg, newy_train)\n",
    "SVM_prediction= SVM.predict(test_feature_seg)\n",
    "SVM_prediction= le.inverse_transform(SVM_prediction)\n",
    "report = classification_report(y_test, SVM_prediction)\n",
    "print(report)"
   ]
  },
  {
   "cell_type": "code",
   "execution_count": 60,
   "metadata": {},
   "outputs": [
    {
     "data": {
      "text/plain": [
       "<AxesSubplot:>"
      ]
     },
     "execution_count": 60,
     "metadata": {},
     "output_type": "execute_result"
    },
    {
     "data": {
      "image/png": "[encoded data removed]",
      "text/plain": [
       "<Figure size 504x360 with 2 Axes>"
      ]
     },
     "metadata": {
      "needs_background": "light"
     },
     "output_type": "display_data"
    }
   ],
   "source": [
    "import matplotlib.pyplot as plt\n",
    "import seaborn as sns\n",
    "from sklearn.metrics import confusion_matrix\n",
    "label = le.inverse_transform([0,1,2,3,4,5,6])\n",
    "cm = confusion_matrix(y_test, SVM_prediction)\n",
    "cm_df = pd.DataFrame(cm,label,label)                      \n",
    "plt.figure(figsize=(7,5))  \n",
    "sns.heatmap(cm_df, annot=True)\n"
   ]
  },
  {
   "cell_type": "code",
   "execution_count": null,
   "metadata": {},
   "outputs": [],
   "source": []
  }
 ],
 "metadata": {
  "environment": {
   "name": "tf2-2-3-gpu.2-3.m58",
   "type": "gcloud",
   "uri": "gcr.io/deeplearning-platform-release/tf2-2-3-gpu.2-3:m58"
  },
  "kernelspec": {
   "display_name": "Python 3",
   "language": "python",
   "name": "python3"
  },
  "language_info": {
   "codemirror_mode": {
    "name": "ipython",
    "version": 3
   },
   "file_extension": ".py",
   "mimetype": "text/x-python",
   "name": "python",
   "nbconvert_exporter": "python",
   "pygments_lexer": "ipython3",
   "version": "3.7.8"
  }
 },
 "nbformat": 4,
 "nbformat_minor": 4
}
